{
  "nbformat": 4,
  "nbformat_minor": 0,
  "metadata": {
    "colab": {
      "name": "CSE353 HW4 JeongYoon Lee(114133199).ipynb",
      "provenance": [],
      "collapsed_sections": []
    },
    "kernelspec": {
      "name": "python3",
      "display_name": "Python 3"
    },
    "language_info": {
      "name": "python"
    }
  },
  "cells": [
    {
      "cell_type": "markdown",
      "metadata": {
        "id": "RemRFGSUcIw-"
      },
      "source": [
        "#CSE 353 Fall 2021 Homework 4 Jeongyoon Lee(114133199)"
      ]
    },
    {
      "cell_type": "code",
      "metadata": {
        "id": "EtEqMo8PcDj2"
      },
      "source": [
        "import cv2\n",
        "import numpy as  np\n",
        "import matplotlib.pyplot as plt\n",
        "from google.colab import drive\n",
        "import glob\n",
        "import math\n",
        "import pandas as pd"
      ],
      "execution_count": 1,
      "outputs": []
    },
    {
      "cell_type": "markdown",
      "metadata": {
        "id": "kEGV_pXGd9PU"
      },
      "source": [
        "#Linear regression"
      ]
    },
    {
      "cell_type": "code",
      "metadata": {
        "colab": {
          "base_uri": "https://localhost:8080/"
        },
        "id": "GIzYAP1wd_Ft",
        "outputId": "0f06db8e-a5f4-4ab8-e3d7-a9d3b69f1c53"
      },
      "source": [
        "for f in glob.glob( \"X.txt\"):\n",
        "  X = np.loadtxt(f,delimiter=\",\") \n",
        "for f in glob.glob( \"Y.txt\"):\n",
        "  Y = np.loadtxt(f,delimiter=\",\") \n",
        "\n",
        "# 1-(a)\n",
        "W_linear = np.linalg.inv(X.T @ X) @ X.T @ Y\n",
        "\n",
        "# 1-(b)\n",
        "h_x = W_linear.T @ X.T #(1*3)@(3*40) = (1*40)\n",
        "for i in range(len(h_x)):\n",
        "  if(h_x[i] <0):\n",
        "    h_x[i] = -1\n",
        "  else:\n",
        "    h_x[i] = 1 \n",
        "\n",
        "error_count = 0\n",
        "for i in range(len(h_x)):\n",
        "  if(h_x[i] != Y[i]):\n",
        "    error_count += 1\n",
        "\n",
        "print(\"1. Linear Regression\")    \n",
        "print(\"W_linearRegression: \",W_linear)\n",
        "print(\"error rate : \",error_count/len(h_x))\n"
      ],
      "execution_count": 2,
      "outputs": [
        {
          "output_type": "stream",
          "name": "stdout",
          "text": [
            "1. Linear Regression\n",
            "W_linearRegression:  [-0.07882655  2.04885018 -1.79061198]\n",
            "error rate :  0.025\n"
          ]
        }
      ]
    },
    {
      "cell_type": "code",
      "metadata": {
        "colab": {
          "base_uri": "https://localhost:8080/",
          "height": 1000
        },
        "id": "4Cm-0KMsQw0V",
        "outputId": "c3134975-85af-4fb5-ec23-e6448157bc4d"
      },
      "source": [
        "# 1-(c)\n",
        "#When initial weight is [0,0,0]\n",
        "def sign_fun(num):\n",
        "  if(num >= 0):\n",
        "    return 1\n",
        "  elif(num<0):\n",
        "    return -1\n",
        "\n",
        "def print_plot():\n",
        "  plt.scatter\n",
        "  if(w[2] != 0 ):\n",
        "    Wm = (w[1]/w[2])\n",
        "    Wx = np.arange(0, 1, 0.0001)\n",
        "    Wy = [((-1)*Wm*num)-w[0]/w[2] for num in Wx]    \n",
        "    plt.ylim([0,1.2])\n",
        "    plt.plot(Wx, Wy)\n",
        "\n",
        "  for i in range(len(X)):\n",
        "    if(Y[i] == 1):\n",
        "      plt.plot(X[i][1], X[i][2], 'o', color='blue');\n",
        "    elif(Y[i] == -1):\n",
        "      plt.plot(X[i][1], X[i][2], 'o', color='red');\n",
        "  plt.show(); \n",
        "  return\n",
        "\n",
        "def check_mistake(X,Y):\n",
        "  flag = 0\n",
        "  global iteration_cnt\n",
        "  print(\">>>iteration\", iteration_cnt)\n",
        "  iteration_cnt+= 1\n",
        "  print_plot()\n",
        "  for i in range(len(X)):\n",
        "    cpr_sign = (w[0] * X[i][0]) + (w[1] * X[i][1]) +(w[2] * X[i][2])\n",
        "    result_sign = sign_fun(cpr_sign)\n",
        "    if(result_sign!=Y[i]): #error\n",
        "      y_n = Y[i]\n",
        "      x1 = X[i][0] \n",
        "      x2 = X[i][1]\n",
        "      x3 = X[i][2]\n",
        "      make_new_weight(x1,x2,x3,y_n)\n",
        "      flag += 1\n",
        "  if(flag == 0):\n",
        "    print(\"Training error rate : \", flag/len(X))\n",
        "    return 1 #means success\n",
        "  check_mistake(X,Y) #recursive until there's no error\n",
        "  return 1 \n",
        "\n",
        "def make_new_weight(x1,x2,x3,y_n):\n",
        "  if(y_n == 1):\n",
        "    w[0] = w[0] + x1\n",
        "    w[1] = w[1] + x2\n",
        "    w[2] = w[2] + x3\n",
        "  elif(y_n == -1):\n",
        "    w[0] = w[0] - x1\n",
        "    w[1] = w[1] - x2\n",
        "    w[2] = w[2] - x3\n",
        "  return\n",
        "\n",
        "\n",
        "print(\"For W = 0\")\n",
        "iteration_cnt = 0\n",
        "w= [0,0,0] # initial weight\n",
        "success_flag = check_mistake(X,Y)\n",
        "if(success_flag == 1):\n",
        "  print(\"success\")\n",
        "  print(\"weight vector: \",w[0],w[1], w[2])\n",
        "  print(\"iteratin number\",iteration_cnt)\n",
        "\n"
      ],
      "execution_count": 6,
      "outputs": [
        {
          "output_type": "stream",
          "name": "stdout",
          "text": [
            "For W = 0\n",
            ">>>iteration 0\n"
          ]
        },
        {
          "output_type": "display_data",
          "data": {
            "image/png": "[encoded data removed]",
            "text/plain": [
              "<Figure size 432x288 with 1 Axes>"
            ]
          },
          "metadata": {
            "needs_background": "light"
          }
        },
        {
          "output_type": "stream",
          "name": "stdout",
          "text": [
            ">>>iteration 1\n"
          ]
        },
        {
          "output_type": "display_data",
          "data": {
            "image/png": "[encoded data removed]",
            "text/plain": [
              "<Figure size 432x288 with 1 Axes>"
            ]
          },
          "metadata": {
            "needs_background": "light"
          }
        },
        {
          "output_type": "stream",
          "name": "stdout",
          "text": [
            ">>>iteration 2\n"
          ]
        },
        {
          "output_type": "display_data",
          "data": {
            "image/png": "[encoded data removed]",
            "text/plain": [
              "<Figure size 432x288 with 1 Axes>"
            ]
          },
          "metadata": {
            "needs_background": "light"
          }
        },
        {
          "output_type": "stream",
          "name": "stdout",
          "text": [
            ">>>iteration 3\n"
          ]
        },
        {
          "output_type": "display_data",
          "data": {
            "image/png": "[encoded data removed]",
            "text/plain": [
              "<Figure size 432x288 with 1 Axes>"
            ]
          },
          "metadata": {
            "needs_background": "light"
          }
        },
        {
          "output_type": "stream",
          "name": "stdout",
          "text": [
            ">>>iteration 4\n"
          ]
        },
        {
          "output_type": "display_data",
          "data": {
            "image/png": "[encoded data removed]",
            "text/plain": [
              "<Figure size 432x288 with 1 Axes>"
            ]
          },
          "metadata": {
            "needs_background": "light"
          }
        },
        {
          "output_type": "stream",
          "name": "stdout",
          "text": [
            "Training error rate :  0.0\n",
            "success\n",
            "weight vector:  0.0 3.5302999999999995 -3.4182\n",
            "iteratin number 5\n"
          ]
        }
      ]
    },
    {
      "cell_type": "code",
      "metadata": {
        "colab": {
          "base_uri": "https://localhost:8080/",
          "height": 644
        },
        "id": "sVP8yXvNuMb8",
        "outputId": "67283a34-6081-4f55-e69a-c2ef7014342e"
      },
      "source": [
        "W_linear = np.linalg.inv(X.T @ X) @ X.T @ Y\n",
        "# 1-(c)\n",
        "# When initial weight is weight from linear regression\n",
        "def sign_fun(num):\n",
        "  if(num >= 0):\n",
        "    return 1\n",
        "  elif(num<0):\n",
        "    return -1\n",
        "\n",
        "def print_plot():\n",
        "  plt.scatter\n",
        "  Wm = (w[1]/w[2])\n",
        "  Wx = np.arange(0, 1, 0.0001)\n",
        "  Wy = [((-1)*Wm*num)-w[0]/w[2] for num in Wx]    \n",
        "  plt.ylim([0,1.2])\n",
        "  plt.plot(Wx, Wy)\n",
        "\n",
        "  for i in range(len(X)):\n",
        "    if(Y[i] == 1):\n",
        "      plt.plot(X[i][1], X[i][2], 'o', color='blue');\n",
        "    elif(Y[i] == -1):\n",
        "      plt.plot(X[i][1], X[i][2], 'o', color='red');\n",
        "  plt.show(); \n",
        "  return\n",
        "\n",
        "def check_mistake(X,Y):\n",
        "  flag = 0\n",
        "  global iteration_cnt\n",
        "  print(\">>>iteration\", iteration_cnt)\n",
        "  iteration_cnt+= 1\n",
        "  print_plot()\n",
        "  for i in range(len(X)):\n",
        "    cpr_sign = (w[0] * X[i][0]) + (w[1] * X[i][1]) +(w[2] * X[i][2])\n",
        "    result_sign = sign_fun(cpr_sign)\n",
        "    if(result_sign!=Y[i]): #error\n",
        "      y_n = Y[i]\n",
        "      x1 = X[i][0] \n",
        "      x2 = X[i][1]\n",
        "      x3 = X[i][2]\n",
        "      make_new_weight(x1,x2,x3,y_n)\n",
        "      flag += 1\n",
        "  if(flag == 0):\n",
        "    print(\"Training error rate : \", flag/len(X))\n",
        "    return 1 #means success\n",
        "  check_mistake(X,Y) #recursive until there's no error\n",
        "  return 1 \n",
        "\n",
        "def make_new_weight(x1,x2,x3,y_n):\n",
        "  if(y_n == 1):\n",
        "    w[0] = w[0] + x1\n",
        "    w[1] = w[1] + x2\n",
        "    w[2] = w[2] + x3\n",
        "  elif(y_n == -1):\n",
        "    w[0] = w[0] - x1\n",
        "    w[1] = w[1] - x2\n",
        "    w[2] = w[2] - x3\n",
        "  return\n",
        "\n",
        "iteration_cnt = 0\n",
        "print(\"For W_linear\")\n",
        "w= W_linear # initial weight\n",
        "success_flag = check_mistake(X,Y)\n",
        "if(success_flag == 1):\n",
        "  print(\"success\")\n",
        "  print(\"weight vector: \",w[0],w[1], w[2])\n",
        "  print(\"iteratin number\",iteration_cnt)\n",
        "\n",
        "\n"
      ],
      "execution_count": 7,
      "outputs": [
        {
          "output_type": "stream",
          "name": "stdout",
          "text": [
            "For W_linear\n",
            ">>>iteration 0\n"
          ]
        },
        {
          "output_type": "display_data",
          "data": {
            "image/png": "[encoded data removed]",
            "text/plain": [
              "<Figure size 432x288 with 1 Axes>"
            ]
          },
          "metadata": {
            "needs_background": "light"
          }
        },
        {
          "output_type": "stream",
          "name": "stdout",
          "text": [
            ">>>iteration 1\n"
          ]
        },
        {
          "output_type": "display_data",
          "data": {
            "image/png": "[encoded data removed]",
            "text/plain": [
              "<Figure size 432x288 with 1 Axes>"
            ]
          },
          "metadata": {
            "needs_background": "light"
          }
        },
        {
          "output_type": "stream",
          "name": "stdout",
          "text": [
            "Training error rate :  0.0\n",
            "success\n",
            "weight vector:  -0.07882654864107863 2.182050179476057 -2.019811982253839\n",
            "iteratin number 2\n"
          ]
        }
      ]
    },
    {
      "cell_type": "markdown",
      "metadata": {
        "id": "jqkhZ30gd_gN"
      },
      "source": [
        "#Logistic regression"
      ]
    },
    {
      "cell_type": "code",
      "metadata": {
        "colab": {
          "base_uri": "https://localhost:8080/"
        },
        "id": "gzl25fXmPcCz",
        "outputId": "8816927d-60fa-4938-8b8c-978011f8a386"
      },
      "source": [
        "#Logistic Regression\n",
        "\n",
        "for f in glob.glob( \"X.txt\"):\n",
        "  X = np.loadtxt(f,delimiter=\",\") \n",
        "\n",
        "for f in glob.glob( \"Y.txt\"):\n",
        "  Y = np.loadtxt(f,delimiter=\",\") \n",
        "\n",
        "def sigmoid(x):\n",
        "  return 1/(1+np.exp(-x))\n",
        "\n",
        "def logistic(W0):\n",
        "  for n in range(iteration_logistic):\n",
        "    result = 0\n",
        "    for i in range(len(X)):\n",
        "      sig_parameter = (-1)*Y[i]* (W0.T) @ X[i]\n",
        "      result_sig = sigmoid(sig_parameter)\n",
        "      yn_xn = Y[i]*X[i]\n",
        "      result = result + result_sig * yn_xn\n",
        "    result = result /len(X)\n",
        "    W0 = W0 + result *  learning_rate\n",
        "    # print(\"error rate : \", np.sqrt(result.dot(result)))\n",
        "\n",
        "\n",
        "#(b)\n",
        "  h_x_logistic = W0.T @ X.T\n",
        "  for i in range(len(h_x_logistic)):\n",
        "    if(h_x_logistic[i] <0):\n",
        "      h_x_logistic[i] = -1\n",
        "    else:\n",
        "      h_x_logistic[i] = 1 \n",
        "\n",
        "  error_count_logi = 0\n",
        "  for i in range(len(h_x_logistic)):\n",
        "    if(h_x_logistic[i] != Y[i]):\n",
        "      error_count_logi += 1\n",
        "  print(\"error rate : \",error_count_logi/len(h_x_logistic))\n",
        "  return W0\n",
        "  \n",
        "print(\"(c)\")\n",
        "print(\"---Using W_LinearRgression as the initialization---\")\n",
        "print(\"learning rate : 0.3, Iteration : 100\")\n",
        "#find W_linearRegression again\n",
        "W_linear = np.linalg.inv(X.T @ X) @ X.T @ Y\n",
        "# print(W_linear)\n",
        "#-----------Hyper Parameter------------#\n",
        "W0 = W_linear\n",
        "result_sig =0\n",
        "iteration_logistic = 100\n",
        "learning_rate = 0.3\n",
        "#--------------------------------------#\n",
        "logistic(W0)  \n",
        "print()\n",
        "\n",
        "print(\"(a)\")\n",
        "print(\"---Using W_LogisticRegression as the initialization---\")\n",
        "print(\"learning rate : 0.3, Iteration : 100\")\n",
        "#-----------Hyper Parameter------------#\n",
        "W0 = np.array([0,0,0])\n",
        "result_sig =0\n",
        "iteration_logistic = 100\n",
        "learning_rate = 0.3\n",
        "#--------------------------------------#\n",
        "W_logisticRegression = logistic(W0) \n",
        "print(\">>W_logisticRegression : \", W_logisticRegression)\n",
        "print()   \n",
        "\n",
        "print(\"(d)\")\n",
        "print(\"---Using different learning rates---\")\n",
        "print(\">>> Learning rate : 0.001, >>>Iteratioin : 10, >>>Weight : W_logisticRegression\")\n",
        "#-----------Hyper Parameter------------#\n",
        "W0 = W_logisticRegression\n",
        "result_sig =0\n",
        "iteration_logistic =10\n",
        "learning_rate = 0.001\n",
        "#--------------------------------------#\n",
        "logistic(W0)  \n",
        "print()\n",
        "\n",
        "print(\"---Using different learning rates---\")\n",
        "print(\">>> Learning rate : 0.001, >>>Iteratioin : 100, >>>Weight : W_logisticRegression\")\n",
        "#-----------Hyper Parameter------------#\n",
        "W0 = W_logisticRegression\n",
        "result_sig =0\n",
        "iteration_logistic =100\n",
        "learning_rate = 0.001\n",
        "#--------------------------------------#\n",
        "logistic(W0)  \n",
        "print()\n",
        "\n",
        "print(\"---Using different learning rates---\")\n",
        "print(\">>> Learning rate : 0.001, >>>Iteratioin : 10000, >>>Weight : W_logisticRegression\")\n",
        "#-----------Hyper Parameter------------#\n",
        "W0 = W_logisticRegression\n",
        "result_sig =0\n",
        "iteration_logistic =10000\n",
        "learning_rate = 0.001\n",
        "#--------------------------------------#\n",
        "logistic(W0)  \n",
        "print()\n",
        "\n",
        "print(\"---Using different learning rates---\")\n",
        "print(\">>> Learning rate : 0.7, >>>Iteratioin : 10, >>>Weight : W_logisticRegression\")\n",
        "#-----------Hyper Parameter------------#\n",
        "W0 = W_logisticRegression\n",
        "result_sig =0\n",
        "iteration_logistic =10\n",
        "learning_rate = 0.7\n",
        "#--------------------------------------#\n",
        "logistic(W0) \n",
        "print()\n",
        "\n",
        "print(\"---Using different learning rates---\")\n",
        "print(\">>> Learning rate : 0.7, >>>Iteratioin : 100, >>>Weight : W_logisticRegression\")\n",
        "#-----------Hyper Parameter------------#\n",
        "W0 = W_logisticRegression\n",
        "result_sig =0\n",
        "iteration_logistic =100\n",
        "learning_rate = 0.7\n",
        "#--------------------------------------#\n",
        "logistic(W0)  \n",
        "print()\n",
        "\n",
        "print(\"---Using different learning rates---\")\n",
        "print(\">>> Learning rate : 0.7, >>>Iteratioin : 1000, >>>Weight : W_logisticRegression\")\n",
        "#-----------Hyper Parameter------------#\n",
        "W0 = W_logisticRegression\n",
        "result_sig =0\n",
        "iteration_logistic =1000\n",
        "learning_rate = 0.7\n",
        "#--------------------------------------#\n",
        "logistic(W0)  \n",
        "print()\n"
      ],
      "execution_count": 8,
      "outputs": [
        {
          "output_type": "stream",
          "name": "stdout",
          "text": [
            "(c)\n",
            "---Using W_LinearRgression as the initialization---\n",
            "learning rate : 0.3, Iteration : 100\n",
            "error rate :  0.05\n",
            "\n",
            "(a)\n",
            "---Using W_LogisticRegression as the initialization---\n",
            "learning rate : 0.3, Iteration : 100\n",
            "error rate :  0.1\n",
            ">>W_logisticRegression :  [-0.27532635  2.24845968 -1.80811357]\n",
            "\n",
            "(d)\n",
            "---Using different learning rates---\n",
            ">>> Learning rate : 0.001, >>>Iteratioin : 10, >>>Weight : W_logisticRegression\n",
            "error rate :  0.1\n",
            "\n",
            "---Using different learning rates---\n",
            ">>> Learning rate : 0.001, >>>Iteratioin : 100, >>>Weight : W_logisticRegression\n",
            "error rate :  0.1\n",
            "\n",
            "---Using different learning rates---\n",
            ">>> Learning rate : 0.001, >>>Iteratioin : 10000, >>>Weight : W_logisticRegression\n",
            "error rate :  0.05\n",
            "\n",
            "---Using different learning rates---\n",
            ">>> Learning rate : 0.7, >>>Iteratioin : 10, >>>Weight : W_logisticRegression\n",
            "error rate :  0.075\n",
            "\n",
            "---Using different learning rates---\n",
            ">>> Learning rate : 0.7, >>>Iteratioin : 100, >>>Weight : W_logisticRegression\n",
            "error rate :  0.05\n",
            "\n",
            "---Using different learning rates---\n",
            ">>> Learning rate : 0.7, >>>Iteratioin : 1000, >>>Weight : W_logisticRegression\n",
            "error rate :  0.0\n",
            "\n"
          ]
        }
      ]
    },
    {
      "cell_type": "markdown",
      "metadata": {
        "id": "eYmxt76QeBoF"
      },
      "source": [
        "#SGD Logistic Regression"
      ]
    },
    {
      "cell_type": "code",
      "metadata": {
        "id": "LLtREutneCz_",
        "colab": {
          "base_uri": "https://localhost:8080/"
        },
        "outputId": "ad2b716f-2be9-44ee-e6a5-a26f3d7ad225"
      },
      "source": [
        "for f in glob.glob( \"X.txt\"):\n",
        "  X = np.loadtxt(f,delimiter=\",\") \n",
        "\n",
        "for f in glob.glob( \"Y.txt\"):\n",
        "  Y = np.loadtxt(f,delimiter=\",\") \n",
        "\n",
        "def sigmoid(x):\n",
        "  return 1/(1+np.exp(-x))\n",
        "\n",
        "def logistic(W0):\n",
        "  for n in range(iteration_logistic):\n",
        "    result = 0\n",
        "    for i in randomList:\n",
        "      sig_parameter = (-1)*Y[i]* (W0.T) @ X[i]\n",
        "      result_sig = sigmoid(sig_parameter)\n",
        "      yn_xn = Y[i]*X[i]\n",
        "      result = result + result_sig * yn_xn\n",
        "    result = result /len(X)\n",
        "    W0 = W0 + result *  learning_rate\n",
        "    # print(\"error rate : \", np.sqrt(result.dot(result)))\n",
        "\n",
        "\n",
        "  h_x_logistic = W0.T @ X.T\n",
        "  for i in randomList:\n",
        "    if(h_x_logistic[i] <0):\n",
        "      h_x_logistic[i] = -1\n",
        "    else:\n",
        "      h_x_logistic[i] = 1 \n",
        "\n",
        "  error_count_logi = 0\n",
        "  for i in randomList:\n",
        "    if(h_x_logistic[i] != Y[i]):\n",
        "      error_count_logi += 1\n",
        "  print(\"error rate : \",error_count_logi/len(randomList))\n",
        "  \n",
        "  return W0\n",
        "\n",
        "\n",
        "\n",
        "#(a),(b),(c)\n",
        "print(\"---Using W_logisticRegression as the initialization---\")\n",
        "#-----------Hyper Parameter------------#\n",
        "size = 30\n",
        "randomList = np.random.choice(len(X), size , replace= False)\n",
        "W0 = np.array([0,0,0])\n",
        "result_sig =0\n",
        "iteration_logistic = 100\n",
        "learning_rate = 0.7\n",
        "#--------------------------------------#\n",
        "print(\"Learning rate :\",learning_rate,\" , Iteration :\",iteration_logistic,\" , size of sample : \",size)\n",
        "print(\"randomlist (random index list): \",randomList)\n",
        "print(\"Random sample size : \", size)\n",
        "W_logistic_SGD = logistic(W0)  \n",
        "print(\">>> W_logisticRegressionSGD : \", W_logistic_SGD)\n",
        "print()\n",
        "\n",
        "print(\"---Using W_logisticRegression as the initialization---\")\n",
        "#-----------Hyper Parameter------------#\n",
        "size = 10\n",
        "randomList = np.random.choice(len(X), size , replace= False)\n",
        "W0 = np.array([0,0,0])\n",
        "result_sig =0\n",
        "iteration_logistic = 100\n",
        "learning_rate = 0.7\n",
        "#--------------------------------------#\n",
        "print(\"Learning rate :\",learning_rate,\" , Iteration :\",iteration_logistic,\" , size of sample : \",size)\n",
        "print(\"randomlist (random index list): \",randomList)\n",
        "print(\"Random sample size : \", size)\n",
        "W_logistic_SGD = logistic(W0)  \n",
        "print(\">>> W_logisticRegressionSGD : \", W_logistic_SGD)\n",
        "print()\n",
        "\n",
        "print(\"---Using W_logisticRegression as the initialization---\")\n",
        "#-----------Hyper Parameter------------#\n",
        "size = 5\n",
        "randomList = np.random.choice(len(X), size , replace= False)\n",
        "W0 = np.array([0,0,0])\n",
        "result_sig =0\n",
        "iteration_logistic = 100\n",
        "learning_rate = 0.7\n",
        "#--------------------------------------#\n",
        "print(\"Learning rate :\",learning_rate,\" , Iteration :\",iteration_logistic,\" , size of sample : \",size)\n",
        "print(\"randomlist (random index list): \",randomList)\n",
        "print(\"Random sample size : \", size)\n",
        "W_logistic_SGD = logistic(W0)  \n",
        "print(\">>> W_logisticRegressionSGD : \", W_logistic_SGD)\n",
        "print()"
      ],
      "execution_count": 18,
      "outputs": [
        {
          "output_type": "stream",
          "name": "stdout",
          "text": [
            "---Using W_logisticRegression as the initialization---\n",
            "Learning rate : 0.7  , Iteration : 100  , size of sample :  30\n",
            "randomlist (random index list):  [19 17 30  4 26 38 13 31 11 22 23 37 36 18 21 39  5 10  1  0 16  2  3 20\n",
            " 29 32 14  7 12 33]\n",
            "Random sample size :  30\n",
            "error rate :  0.06666666666666667\n",
            ">>> W_logisticRegressionSGD :  [-0.46242557  3.47475517 -2.46709936]\n",
            "\n",
            "---Using W_logisticRegression as the initialization---\n",
            "Learning rate : 0.7  , Iteration : 100  , size of sample :  10\n",
            "randomlist (random index list):  [31  7 33 10 37 13 19 27 22 38]\n",
            "Random sample size :  10\n",
            "error rate :  0.1\n",
            ">>> W_logisticRegressionSGD :  [-0.84650309  1.56049848 -1.26938278]\n",
            "\n",
            "---Using W_logisticRegression as the initialization---\n",
            "Learning rate : 0.7  , Iteration : 100  , size of sample :  5\n",
            "randomlist (random index list):  [22 29  2 16 37]\n",
            "Random sample size :  5\n",
            "error rate :  0.4\n",
            ">>> W_logisticRegressionSGD :  [-0.11709129  0.22118673 -0.65053112]\n",
            "\n"
          ]
        }
      ]
    }
  ]
}